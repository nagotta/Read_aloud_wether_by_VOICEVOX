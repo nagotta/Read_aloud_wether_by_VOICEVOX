{
 "cells": [
  {
   "cell_type": "markdown",
   "metadata": {},
   "source": [
    "1. voicevoxエンジンとPythonコンテナを起動\n",
    "  - [x] pythonファイルをコンテナに配置\n",
    "  - [X] テストスクリプトを実行\n",
    "  - [ ] キャラ選択機能(コマンドで投げて変更)\n",
    "2. 音声ファイルの作成\n",
    "  - [ ] 天気予報の取得(モジュール化，main.pyを実行)\n",
    "  - [ ] 型(str)，語尾を整形\n",
    "3. 音声ファイルの再生"
   ]
  },
  {
   "cell_type": "markdown",
   "metadata": {},
   "source": [
    "## 1. コンテナ起動"
   ]
  },
  {
   "cell_type": "markdown",
   "metadata": {},
   "source": [
    "- .env"
   ]
  },
  {
   "cell_type": "markdown",
   "metadata": {},
   "source": [
    "- compose.yml"
   ]
  },
  {
   "cell_type": "markdown",
   "metadata": {},
   "source": [
    "- コンテナ起動: `.env`と`compose.yml`があるディレクトリで`docker compose up -d`\n",
    "- コンテナ停止: `docker compose down`"
   ]
  },
  {
   "cell_type": "markdown",
   "metadata": {},
   "source": [
    "## 2. "
   ]
  },
  {
   "cell_type": "code",
   "execution_count": null,
   "metadata": {},
   "outputs": [],
   "source": []
  },
  {
   "cell_type": "code",
   "execution_count": null,
   "metadata": {},
   "outputs": [],
   "source": []
  },
  {
   "cell_type": "code",
   "execution_count": null,
   "metadata": {},
   "outputs": [],
   "source": []
  },
  {
   "cell_type": "markdown",
   "metadata": {},
   "source": [
    "---\n",
    "### テストコード\n",
    "- test.sh"
   ]
  },
  {
   "cell_type": "markdown",
   "metadata": {},
   "source": [
    "```sh\n",
    "#!/bin/bash\n",
    "\n",
    "# # 環境変数として.envの変数を読み込む\n",
    "set -a\n",
    "source .env\n",
    "set +a\n",
    "\n",
    "# テスト用のテキストファイル作成\n",
    "echo -n \"こんにちは、音声合成の世界へようこそ\" > test_text.txt\n",
    "\n",
    "# テスト用のjsonクエリを作成\n",
    "curl -s \\\n",
    "    -X POST \\\n",
    "    \"${HOST_IP}:${HOST_PORT}/audio_query?speaker=1\" \\\n",
    "    --get --data-urlencode text@test_text.txt \\\n",
    "    > test_query.json\n",
    "\n",
    "# テスト用の音声ファイルを作成\n",
    "curl -s \\\n",
    "    -H \"Content-Type: application/json\" \\\n",
    "    -X POST \\\n",
    "    -d @test_query.json \\\n",
    "    \"${HOST_IP}:${HOST_PORT}/synthesis?speaker=1\" \\\n",
    "    > test_audio.wav\n",
    "```"
   ]
  },
  {
   "cell_type": "markdown",
   "metadata": {},
   "source": [
    "---\n",
    "### 参考文献\n",
    "- [https://hub.docker.com/r/voicevox/voicevox_engine](https://hub.docker.com/r/voicevox/voicevox_engine)"
   ]
  },
  {
   "cell_type": "markdown",
   "metadata": {},
   "source": []
  }
 ],
 "metadata": {
  "kernelspec": {
   "display_name": ".venv",
   "language": "python",
   "name": "python3"
  },
  "language_info": {
   "name": "python",
   "version": "3.12.3"
  }
 },
 "nbformat": 4,
 "nbformat_minor": 2
}
