{
 "cells": [
  {
   "cell_type": "markdown",
   "metadata": {},
   "source": [
    "1. voicevoxエンジンとPythonコンテナを起動\n",
    "  - [X] pythonファイルをコンテナに配置\n",
    "  - [X] テストスクリプトを実行\n",
    "  - [X] キャラ選択機能(コマンドで投げて変更)\n",
    "2. 音声ファイルの作成\n",
    "  - [ ] 天気予報の取得(モジュール化，main.pyを実行)\n",
    "  - [ ] 型(str)，語尾を整形\n",
    "3. 音声ファイルの再生\n",
    "  - [X] pythonコンテナ内でaplay実行して音を出す\n",
    "4. 定期実行\n",
    "  - Pythonコンテナのcrontab設定\n",
    "    - [ ] 音声ファイルの作成\n",
    "    - [ ] 音声ファイルの再生\n",
    "  "
   ]
  },
  {
   "cell_type": "markdown",
   "metadata": {},
   "source": [
    "## 1. コンテナ起動"
   ]
  },
  {
   "cell_type": "markdown",
   "metadata": {},
   "source": [
    "- .env\n",
    "- compose.yml"
   ]
  },
  {
   "cell_type": "markdown",
   "metadata": {},
   "source": [
    "- crontabの設定(sudoで実行)\n",
    "```sh\n",
    "# 仮\n",
    "# 0時1分から2時間おきに天気予報を言う\n",
    "1 0-23/2 * * * bash /home/kbit/sh/aplay.sh\n",
    "\n",
    "# 音声ファイルを最新の天気予報の情報に更新する\n",
    "32 1-23/2 * * * python3 /home/kbit/make_vo/main.py\n",
    "```"
   ]
  },
  {
   "cell_type": "markdown",
   "metadata": {},
   "source": [
    "- コンテナ起動: `.env`と`compose.yml`があるディレクトリで`docker compose up -d`\n",
    "- コンテナ停止: `docker compose down`"
   ]
  },
  {
   "cell_type": "markdown",
   "metadata": {},
   "source": [
    "## 2. 初期設定\n",
    "- 居住地(天気予報取得設定)\n",
    "- ボイスキャラ(デフォルトはずんだもん)\n",
    "- "
   ]
  },
  {
   "cell_type": "markdown",
   "metadata": {},
   "source": []
  },
  {
   "cell_type": "markdown",
   "metadata": {},
   "source": [
    "## 3. main.pyの実行"
   ]
  },
  {
   "cell_type": "markdown",
   "metadata": {},
   "source": [
    "- 天気予報の取得\n",
    "- 語尾・文章作成\n",
    "- テキストファイルの生成"
   ]
  },
  {
   "cell_type": "code",
   "execution_count": null,
   "metadata": {},
   "outputs": [],
   "source": []
  },
  {
   "cell_type": "code",
   "execution_count": null,
   "metadata": {},
   "outputs": [],
   "source": []
  },
  {
   "cell_type": "code",
   "execution_count": null,
   "metadata": {},
   "outputs": [],
   "source": []
  },
  {
   "cell_type": "markdown",
   "metadata": {},
   "source": [
    "---\n",
    "### テストコード\n",
    "- test.sh"
   ]
  },
  {
   "cell_type": "markdown",
   "metadata": {},
   "source": [
    "---\n",
    "### 参考文献\n",
    "- [https://hub.docker.com/r/voicevox/voicevox_engine](https://hub.docker.com/r/voicevox/voicevox_engine)"
   ]
  },
  {
   "cell_type": "markdown",
   "metadata": {},
   "source": []
  }
 ],
 "metadata": {
  "kernelspec": {
   "display_name": ".venv",
   "language": "python",
   "name": "python3"
  },
  "language_info": {
   "name": "python",
   "version": "3.12.3"
  }
 },
 "nbformat": 4,
 "nbformat_minor": 2
}
